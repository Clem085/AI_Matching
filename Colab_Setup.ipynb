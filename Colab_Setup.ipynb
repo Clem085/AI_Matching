{
 "cells": [
  {
   "cell_type": "markdown",
   "id": "bca045d9",
   "metadata": {},
   "source": [
    "# 🚀 Colab Setup — AI_Matching"
   ]
  },
  {
   "cell_type": "markdown",
   "id": "7b28e33e",
   "metadata": {},
   "source": [
    "This notebook clones the repo, installs dependencies, runs the full pipeline, and renders `learn_from_outputs.ipynb` into an HTML report inline."
   ]
  },
  {
   "cell_type": "markdown",
   "id": "c04a1bd3",
   "metadata": {},
   "source": [
    "## 1) Clone the repo & enter project folder"
   ]
  },
  {
   "cell_type": "code",
   "execution_count": null,
   "id": "39eb2666",
   "metadata": {},
   "outputs": [],
   "source": [
    "\n",
    "REPO_URL = \"https://github.com/Clem085/AI_Matching.git\"\n",
    "BRANCH   = \"main\"\n",
    "SUBDIR   = \"ai_matching\"\n",
    "\n",
    "!rm -rf /content/AI_Matching\n",
    "!git clone -b \"$BRANCH\" --single-branch \"$REPO_URL\" /content/AI_Matching\n",
    "\n",
    "%cd /content/AI_Matching/{SUBDIR}\n",
    "!pwd && ls -lah\n"
   ]
  },
  {
   "cell_type": "markdown",
   "id": "38c8f294",
   "metadata": {},
   "source": [
    "## 2) Install dependencies"
   ]
  },
  {
   "cell_type": "code",
   "execution_count": null,
   "id": "809406e4",
   "metadata": {},
   "outputs": [],
   "source": [
    "\n",
    "import os\n",
    "if os.path.exists(\"requirements.txt\"):\n",
    "    req_path = \"requirements.txt\"\n",
    "elif os.path.exists(\"../requirements.txt\"):\n",
    "    req_path = \"../requirements.txt\"\n",
    "else:\n",
    "    req_path = None\n",
    "\n",
    "if req_path:\n",
    "    print(\"Installing from\", req_path)\n",
    "    %pip install -q -r {req_path}\n",
    "else:\n",
    "    print(\"No requirements.txt found — installing a minimal set\")\n",
    "    %pip install -q pandas numpy scikit-learn joblib matplotlib\n"
   ]
  },
  {
   "cell_type": "markdown",
   "id": "afaf00ba",
   "metadata": {},
   "source": [
    "## 3) Make the repo importable"
   ]
  },
  {
   "cell_type": "code",
   "execution_count": null,
   "id": "f9d02fe9",
   "metadata": {},
   "outputs": [],
   "source": [
    "\n",
    "import sys, os\n",
    "cwd = os.getcwd()\n",
    "if cwd not in sys.path:\n",
    "    sys.path.insert(0, cwd)\n",
    "print(\"CWD:\", cwd)\n",
    "print(\"sys.path[0]:\", sys.path[0])\n"
   ]
  },
  {
   "cell_type": "markdown",
   "id": "4133047a",
   "metadata": {},
   "source": [
    "## 4) Run the full pipeline"
   ]
  },
  {
   "cell_type": "code",
   "execution_count": null,
   "id": "65cff495",
   "metadata": {},
   "outputs": [],
   "source": [
    "\n",
    "!python supervision_tool.py generate build train score\n"
   ]
  },
  {
   "cell_type": "markdown",
   "id": "2fb77ed9",
   "metadata": {},
   "source": [
    "## 5) See outputs (CSV previews and listing)"
   ]
  },
  {
   "cell_type": "code",
   "execution_count": null,
   "id": "36f00638",
   "metadata": {},
   "outputs": [],
   "source": [
    "\n",
    "import os, glob, pandas as pd\n",
    "print(\"Working dir:\", os.getcwd())\n",
    "print(\"\\nGenerated artifacts:\")\n",
    "for f in sorted(glob.glob(\"*.csv\") + glob.glob(\"*.joblib\") + glob.glob(\"*.png\")):\n",
    "    print(\" -\", f)\n",
    "\n",
    "for f in [\"Supervision_HistoricalPairs_SYNTH.csv\",\n",
    "          \"supervision_matches.csv\",\n",
    "          \"associates_unassigned.csv\"]:\n",
    "    if os.path.exists(f):\n",
    "        print(f\"\\n=== {f} (head) ===\")\n",
    "        display(pd.read_csv(f).head())\n"
   ]
  },
  {
   "cell_type": "markdown",
   "id": "118cb682",
   "metadata": {},
   "source": [
    "## 6) Execute `learn_from_outputs.ipynb` and render report"
   ]
  },
  {
   "cell_type": "code",
   "execution_count": null,
   "id": "7f30d53d",
   "metadata": {},
   "outputs": [],
   "source": [
    "\n",
    "import os\n",
    "if not os.path.exists(\"learn_from_outputs.ipynb\"):\n",
    "    print(\"learn_from_outputs.ipynb not found in this directory.\")\n",
    "else:\n",
    "    !jupyter nbconvert --to notebook --execute learn_from_outputs.ipynb --output learn_from_outputs_EXECUTED.ipynb\n",
    "    !jupyter nbconvert --to html learn_from_outputs_EXECUTED.ipynb --output learn_from_outputs_report.html\n",
    "\n",
    "    from IPython.display import IFrame, display, HTML\n",
    "    display(HTML(\"<h4>Rendered learn_from_outputs report</h4>\"))\n",
    "    display(IFrame('learn_from_outputs_report.html', width='100%', height=800))\n"
   ]
  }
 ],
 "metadata": {},
 "nbformat": 4,
 "nbformat_minor": 5
}
