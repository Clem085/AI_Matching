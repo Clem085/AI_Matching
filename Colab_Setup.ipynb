{
  "cells": [
    {
      "cell_type": "markdown",
      "metadata": {
        "id": "Y1StUNDNXYEc"
      },
      "source": [
        "# AI Matching – Colab Setup\n",
        "\n",
        "This notebook bootstraps the repo inside a Google Colab runtime, installs dependencies, and runs the end-to-end pipeline.\n"
      ],
      "id": "Y1StUNDNXYEc"
    },
    {
      "cell_type": "code",
      "execution_count": 5,
      "metadata": {
        "id": "clone",
        "colab": {
          "base_uri": "https://localhost:8080/"
        },
        "outputId": "f4b10904-771b-40a7-94aa-a0dc732d306b"
      },
      "outputs": [
        {
          "output_type": "stream",
          "name": "stdout",
          "text": [
            "fatal: destination path '/content/AI_Matching' already exists and is not an empty directory.\n",
            "/content/AI_Matching/ai_matching\n",
            "/content/AI_Matching/ai_matching\n",
            "total 432K\n",
            "drwxr-xr-x 3 root root 4.0K Oct 19 07:28 .\n",
            "drwxr-xr-x 6 root root 4.0K Oct 19 07:28 ..\n",
            "-rw-r--r-- 1 root root  13K Oct 19 07:34 associates_unassigned.csv\n",
            "-rw-r--r-- 1 root root 6.2K Oct 19 07:28 build_learn_notebook.py\n",
            "-rw-r--r-- 1 root root 1.3K Oct 19 07:28 build_pairs.py\n",
            "-rw-r--r-- 1 root root 3.8K Oct 19 07:28 generate_data.py\n",
            "-rw-r--r-- 1 root root  28K Oct 19 07:28 learn_from_outputs.ipynb\n",
            "-rw-r--r-- 1 root root 4.8K Oct 19 07:28 matcher_lib.py\n",
            "drwxr-xr-x 2 root root 4.0K Oct 19 07:28 __pycache__\n",
            "-rw-r--r-- 1 root root 1.5K Oct 19 07:28 score_matches.py\n",
            "-rw-r--r-- 1 root root  43K Oct 19 07:34 Supervision_Associates_SYNTH.csv\n",
            "-rw-r--r-- 1 root root 163K Oct 19 07:34 Supervision_HistoricalPairs_SYNTH.csv\n",
            "-rw-r--r-- 1 root root  86K Oct 19 07:34 supervision_matches.csv\n",
            "-rw-r--r-- 1 root root 1.8K Oct 19 07:34 supervision_pair_model.joblib\n",
            "-rw-r--r-- 1 root root  39K Oct 19 07:34 Supervision_Supervisors_SYNTH.csv\n",
            "-rwxr-xr-x 1 root root 3.4K Oct 19 07:28 supervision_tool.py\n",
            "-rw-r--r-- 1 root root 1.2K Oct 19 07:28 train_model.py\n"
          ]
        }
      ],
      "source": [
        "# --- Repo settings ---\n",
        "REPO_URL = \"https://github.com/Clem085/AI_Matching.git\"\n",
        "BRANCH   = \"main\"        # change if needed\n",
        "SUBDIR   = \"ai_matching\" # your code lives here\n",
        "\n",
        "# --- Clone and enter the project directory ---\n",
        "!git clone -b \"$BRANCH\" --single-branch \"$REPO_URL\" /content/AI_Matching\n",
        "%cd /content/AI_Matching/{SUBDIR}\n",
        "!pwd && ls -lah\n"
      ],
      "id": "clone"
    },
    {
      "cell_type": "code",
      "execution_count": 6,
      "metadata": {
        "id": "install",
        "colab": {
          "base_uri": "https://localhost:8080/"
        },
        "outputId": "c6b292e3-e954-4e9e-ddc9-68c7c40d88bf"
      },
      "outputs": [
        {
          "output_type": "stream",
          "name": "stdout",
          "text": [
            "Installing from ../requirements.txt\n"
          ]
        }
      ],
      "source": [
        "import os\n",
        "\n",
        "# Try requirements in this folder first; fall back to repo root\n",
        "if os.path.exists(\"requirements.txt\"):\n",
        "    req_path = \"requirements.txt\"\n",
        "elif os.path.exists(\"../requirements.txt\"):\n",
        "    req_path = \"../requirements.txt\"\n",
        "else:\n",
        "    req_path = None\n",
        "\n",
        "if req_path:\n",
        "    print(\"Installing from\", req_path)\n",
        "    %pip install -q -r {req_path}\n",
        "else:\n",
        "    print(\"No requirements.txt found — installing a minimal set\")\n",
        "    %pip install -q pandas numpy scikit-learn joblib matplotlib\n"
      ],
      "id": "install"
    },
    {
      "cell_type": "code",
      "execution_count": 7,
      "metadata": {
        "id": "run_pipeline",
        "colab": {
          "base_uri": "https://localhost:8080/"
        },
        "outputId": "6d4db86f-3ff2-4f81-9859-5d97a323400d"
      },
      "outputs": [
        {
          "output_type": "stream",
          "name": "stdout",
          "text": [
            "CWD: /content/AI_Matching/ai_matching\n",
            "import path[0]: /content/AI_Matching/ai_matching\n"
          ]
        }
      ],
      "source": [
        "import sys, os\n",
        "cwd = os.getcwd()\n",
        "if cwd not in sys.path:\n",
        "    sys.path.insert(0, cwd)\n",
        "print(\"CWD:\", cwd)\n",
        "print(\"import path[0]:\", sys.path[0])\n"
      ],
      "id": "run_pipeline"
    },
    {
      "cell_type": "code",
      "source": [
        "!python supervision_tool.py generate build train score"
      ],
      "metadata": {
        "colab": {
          "base_uri": "https://localhost:8080/"
        },
        "id": "iIYhs7NuYknx",
        "outputId": "fb064602-a015-4539-bdfa-3448ba19c19d"
      },
      "id": "iIYhs7NuYknx",
      "execution_count": 8,
      "outputs": [
        {
          "output_type": "stream",
          "name": "stdout",
          "text": [
            "=== generate ===\n",
            "Wrote synthetic supervisors & associates.\n",
            "done.\n",
            "\n",
            "=== build ===\n",
            "Wrote pairs -> /content/AI_Matching/ai_matching/Supervision_HistoricalPairs_SYNTH.csv\n",
            "done.\n",
            "\n",
            "=== train ===\n",
            "=== Validation Report ===\n",
            "/usr/local/lib/python3.12/dist-packages/sklearn/metrics/_classification.py:1565: UndefinedMetricWarning: Precision is ill-defined and being set to 0.0 in labels with no predicted samples. Use `zero_division` parameter to control this behavior.\n",
            "  _warn_prf(average, modifier, f\"{metric.capitalize()} is\", len(result))\n",
            "/usr/local/lib/python3.12/dist-packages/sklearn/metrics/_classification.py:1565: UndefinedMetricWarning: Precision is ill-defined and being set to 0.0 in labels with no predicted samples. Use `zero_division` parameter to control this behavior.\n",
            "  _warn_prf(average, modifier, f\"{metric.capitalize()} is\", len(result))\n",
            "/usr/local/lib/python3.12/dist-packages/sklearn/metrics/_classification.py:1565: UndefinedMetricWarning: Precision is ill-defined and being set to 0.0 in labels with no predicted samples. Use `zero_division` parameter to control this behavior.\n",
            "  _warn_prf(average, modifier, f\"{metric.capitalize()} is\", len(result))\n",
            "              precision    recall  f1-score   support\n",
            "\n",
            "           0       0.00      0.00      0.00         9\n",
            "           1       0.84      1.00      0.91        48\n",
            "\n",
            "    accuracy                           0.84        57\n",
            "   macro avg       0.42      0.50      0.46        57\n",
            "weighted avg       0.71      0.84      0.77        57\n",
            "\n",
            "Saved model -> /content/AI_Matching/ai_matching/supervision_pair_model.joblib\n",
            "done.\n",
            "\n",
            "=== score ===\n",
            "Wrote -> /content/AI_Matching/ai_matching/supervision_matches.csv\n",
            "Wrote -> /content/AI_Matching/ai_matching/associates_unassigned.csv\n",
            "done.\n",
            "\n"
          ]
        }
      ]
    },
    {
      "cell_type": "markdown",
      "metadata": {
        "id": "mvxx_mQmXYEe"
      },
      "source": [
        "## Next steps\n",
        "- Open `ai_matching/learn_from_outputs.ipynb` in Colab for exploratory analysis.\n",
        "- Inspect generated CSVs and `supervision_pair_model.joblib` in the `ai_matching/` folder.\n"
      ],
      "id": "mvxx_mQmXYEe"
    }
  ],
  "metadata": {
    "kernelspec": {
      "display_name": "Python 3",
      "language": "python",
      "name": "python3"
    },
    "language_info": {
      "name": "python",
      "version": "3.x"
    },
    "colab": {
      "provenance": []
    }
  },
  "nbformat": 4,
  "nbformat_minor": 5
}