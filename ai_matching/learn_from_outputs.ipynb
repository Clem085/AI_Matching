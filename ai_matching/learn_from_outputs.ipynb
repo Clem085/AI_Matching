{
 "cells": [
  {
   "cell_type": "markdown",
   "id": "a7062300",
   "metadata": {
    "id": "a7062300"
   },
   "source": [
    "# Learn from Outputs \u2014 Supervision Matching"
   ]
  },
  {
   "cell_type": "markdown",
   "id": "eb1056e8",
   "metadata": {
    "id": "eb1056e8"
   },
   "source": [
    "\n",
    "This notebook documents the supervision matcher pipeline so you can re-run every step and inspect the outputs.\n",
    "\n",
    "**Run everything**\n",
    "- Choose `Kernel \u2192 Restart & Run All` to regenerate synthetic data, retrain the model, and refresh the diagnostics.\n",
    "- Every code cell ultimately calls `python supervision_tool.py generate build train score`, keeping the notebook reproducible.\n",
    "\n",
    "**Sections**\n",
    "1. Hard filters (exact state + license matching).\n",
    "2. Availability similarity model (TF-IDF + cosine).\n",
    "3. Capacity-aware greedy assignment.\n",
    "4. Diagnostics & next steps.\n",
    "\n"
   ]
  },
  {
   "cell_type": "markdown",
   "metadata": {
    "id": "xWc3bjhOBuuL"
   },
   "source": [
    "## Run the full pipeline from here\n",
    "\n",
    "This cell runs the CLI so the notebook stays in sync with the latest synthetic data and model artifacts.\n"
   ],
   "id": "xWc3bjhOBuuL"
  },
  {
   "cell_type": "code",
   "execution_count": null,
   "metadata": {},
   "outputs": [],
   "source": [
    "# Ensure we are running from the repo root and imports can resolve\n",
    "import os, sys\n",
    "from pathlib import Path\n",
    "\n\n",
    "if Path('ai_matching').is_dir() and Path('ai_matching/supervision_tool.py').exists():\n",
    "    REPO_ROOT = Path('.').resolve()\n",
    "else:\n",
    "    REPO_ROOT = Path('/content/AI_Matching').resolve()\n",
    "    if not REPO_ROOT.exists():\n",
    "        !git clone https://github.com/Clem085/AI_Matching.git {REPO_ROOT}\n",
    "    os.chdir(REPO_ROOT)\n",
    "    print('Cloned repository to', REPO_ROOT)\n",
    "    REPO_ROOT = Path.cwd()\n",
    "if str(REPO_ROOT / 'ai_matching') not in sys.path:\n",
    "    sys.path.insert(0, str(REPO_ROOT / 'ai_matching'))\n",
    "os.chdir(REPO_ROOT)\n",
    "print('Working directory:', Path.cwd())\n"
   ]
  },
  {
   "cell_type": "code",
   "execution_count": 4,
   "id": "c3d12a6b",
   "metadata": {
    "id": "c3d12a6b",
    "outputId": "8810f0f9-4d8f-4318-e0fd-27f1f7eb1d8d",
    "colab": {
     "base_uri": "https://localhost:8080/"
    }
   },
   "outputs": [
    {
     "output_type": "stream",
     "name": "stdout",
     "text": [
      "python3: can't open file '/content/supervision_tool.py': [Errno 2] No such file or directory\n"
     ]
    }
   ],
   "source": [
    "!python ai_matching/supervision_tool.py generate build train score\n"
   ]
  },
  {
   "cell_type": "markdown",
   "id": "ee00f437",
   "metadata": {
    "id": "ee00f437"
   },
   "source": [
    "## 0) Load generated artifacts\n",
    "\n",
    "Inspect the fresh CSVs and model bundle produced by the pipeline run above.\n"
   ]
  },
  {
   "cell_type": "code",
   "execution_count": 2,
   "id": "13273254",
   "metadata": {
    "id": "13273254",
    "outputId": "14293586-dbd0-4944-8a2d-0b84c77ce3be",
    "colab": {
     "base_uri": "https://localhost:8080/"
    }
   },
   "outputs": [
    {
     "output_type": "stream",
     "name": "stdout",
     "text": [
      "Found files:\n",
      " - /content/Supervision_HistoricalPairs_SYNTH.csv exists? False\n",
      " - /content/supervision_matches.csv exists? False\n",
      " - /content/associates_unassigned.csv exists? False\n",
      " - /content/supervision_pair_model.joblib exists? False\n"
     ]
    }
   ],
   "source": [
    "from pathlib import Path\n",
    "import pandas as pd\n",
    "\n\n",
    "BASE = Path('ai_matching')\n",
    "pairs_csv = BASE / 'Supervision_HistoricalPairs_SYNTH.csv'\n",
    "matches_csv = BASE / 'supervision_matches.csv'\n",
    "unassigned_csv = BASE / 'associates_unassigned.csv'\n",
    "model_path = BASE / 'supervision_pair_model.joblib'\n",
    "\n\n",
    "print('Found files:')\n",
    "for p in [pairs_csv, matches_csv, unassigned_csv, model_path]:\n",
    "    print(' -', p.resolve(), 'exists?', p.exists())\n",
    "\n\n",
    "pairs = pd.read_csv(pairs_csv) if pairs_csv.exists() else None\n",
    "matches = pd.read_csv(matches_csv) if matches_csv.exists() else None\n",
    "unassigned = pd.read_csv(unassigned_csv) if unassigned_csv.exists() else None\n",
    "\n\n",
    "if pairs is not None:\n",
    "    display(pairs.head())\n",
    "if matches is not None:\n",
    "    display(matches.head())\n",
    "if unassigned is not None:\n",
    "    display(unassigned.head())\n"
   ]
  },
  {
   "cell_type": "markdown",
   "id": "104f8936",
   "metadata": {
    "id": "104f8936"
   },
   "source": [
    "## 1) Hard filters (exact matches)\n",
    "\n",
    "No machine learning here\u2014just deterministic business logic before we consider availability:\n",
    "- `State` comparisons now treat licenses as sets, so a supervisor licensed in multiple states will match as long as there is overlap with the associate.\n",
    "- `License Type` must appear in the supervisor's `Who can you supervise?` list (we accept comma or semicolon separated values).\n",
    "\n",
    "Implementation lives in `matcher_lib.py` (`parse_state_list`, `parse_license_list`, and `deterministic_filter`).\n"
   ]
  },
  {
   "cell_type": "markdown",
   "id": "8ba8ac88",
   "metadata": {
    "id": "8ba8ac88"
   },
   "source": [
    "### Deterministic filter snapshot\n",
    "\n",
    "Run the helper to see how many candidate pairs remain after enforcing state + license rules.\n"
   ]
  },
  {
   "cell_type": "code",
   "execution_count": 3,
   "id": "2c37956c",
   "metadata": {
    "id": "2c37956c",
    "outputId": "b893019d-a69d-44da-fd27-81e6ff0a2dd1",
    "colab": {
     "base_uri": "https://localhost:8080/",
     "height": 383
    }
   },
   "outputs": [
    {
     "output_type": "error",
     "ename": "ModuleNotFoundError",
     "evalue": "No module named 'matcher_lib'",
     "traceback": [
      "\u001b[0;31m---------------------------------------------------------------------------\u001b[0m",
      "\u001b[0;31mModuleNotFoundError\u001b[0m                       Traceback (most recent call last)",
      "\u001b[0;32m/tmp/ipython-input-2009321633.py\u001b[0m in \u001b[0;36m<cell line: 0>\u001b[0;34m()\u001b[0m\n\u001b[1;32m      1\u001b[0m \u001b[0;32mfrom\u001b[0m \u001b[0mpathlib\u001b[0m \u001b[0;32mimport\u001b[0m \u001b[0mPath\u001b[0m\u001b[0;34m\u001b[0m\u001b[0;34m\u001b[0m\u001b[0m\n\u001b[1;32m      2\u001b[0m \u001b[0;32mimport\u001b[0m \u001b[0mpandas\u001b[0m \u001b[0;32mas\u001b[0m \u001b[0mpd\u001b[0m\u001b[0;34m\u001b[0m\u001b[0;34m\u001b[0m\u001b[0m\n\u001b[0;32m----> 3\u001b[0;31m \u001b[0;32mfrom\u001b[0m \u001b[0mmatcher_lib\u001b[0m \u001b[0;32mimport\u001b[0m \u001b[0mdeterministic_filter\u001b[0m\u001b[0;34m\u001b[0m\u001b[0;34m\u001b[0m\u001b[0m\n\u001b[0m\u001b[1;32m      4\u001b[0m \u001b[0;34m\u001b[0m\u001b[0m\n\u001b[1;32m      5\u001b[0m \u001b[0msupervisors_path\u001b[0m \u001b[0;34m=\u001b[0m \u001b[0mPath\u001b[0m\u001b[0;34m(\u001b[0m\u001b[0;34m'Supervision_Supervisors_SYNTH.csv'\u001b[0m\u001b[0;34m)\u001b[0m\u001b[0;34m\u001b[0m\u001b[0;34m\u001b[0m\u001b[0m\n",
      "\u001b[0;31mModuleNotFoundError\u001b[0m: No module named 'matcher_lib'",
      "",
      "\u001b[0;31m---------------------------------------------------------------------------\u001b[0;32m\nNOTE: If your import is failing due to a missing package, you can\nmanually install dependencies using either !pip or !apt.\n\nTo view examples of installing some common dependencies, click the\n\"Open Examples\" button below.\n\u001b[0;31m---------------------------------------------------------------------------\u001b[0m\n"
     ],
     "errorDetails": {
      "actions": [
       {
        "action": "open_url",
        "actionText": "Open Examples",
        "url": "/notebooks/snippets/importing_libraries.ipynb"
       }
      ]
     }
    }
   ],
   "source": [
    "from pathlib import Path\n",
    "import pandas as pd\n",
    "from ai_matching.matcher_lib import deterministic_filter\n",
    "\n\n",
    "BASE = Path('ai_matching')\n",
    "supervisors_path = BASE / 'Supervision_Supervisors_SYNTH.csv'\n",
    "associates_path = BASE / 'Supervision_Associates_SYNTH.csv'\n",
    "\n\n",
    "if supervisors_path.exists() and associates_path.exists():\n",
    "    supervisors_df = pd.read_csv(supervisors_path)\n",
    "    associates_df = pd.read_csv(associates_path)\n",
    "    filtered = deterministic_filter(supervisors_df, associates_df)\n",
    "    print('Candidate rows remaining after hard filters:', len(filtered))\n",
    "    display(filtered.head())\n",
    "else:\n",
    "    print('Missing CSV inputs \u2014 run the pipeline cell above first.')\n"
   ]
  },
  {
   "cell_type": "markdown",
   "id": "d6a5740b",
   "metadata": {
    "id": "d6a5740b"
   },
   "source": [
    "## 2) Availability similarity (machine learning)\n",
    "\n",
    "Feasible pairs are scored by how well their 30-minute availability blocks line up. Slots run every half hour from **8:00 AM through 6:00 PM**.\n",
    "1. TF-IDF vectorize each availability string.\n",
    "2. Cosine similarity becomes `AvailabilityScore`; literal slot overlap becomes `AvailabilityOverlap`.\n",
    "3. A logistic regression blends those signals (plus capacity) to mimic historical choices.\n",
    "\n",
    "The synthetic dataset leans positive, so expect mostly \"match\" examples unless you inject more intentionally bad pairings.\n"
   ]
  },
  {
   "cell_type": "code",
   "execution_count": null,
   "id": "ba0ea929",
   "metadata": {
    "id": "ba0ea929"
   },
   "outputs": [],
   "source": [
    "\n",
    "import matplotlib.pyplot as plt\n",
    "from sklearn.model_selection import train_test_split\n",
    "from sklearn.preprocessing import StandardScaler\n",
    "from sklearn.pipeline import Pipeline\n",
    "from sklearn.linear_model import LogisticRegression\n",
    "from sklearn.metrics import (classification_report, confusion_matrix,\n",
    "                             ConfusionMatrixDisplay, precision_recall_curve,\n",
    "                             average_precision_score)\n",
    "\n",
    "if pairs is not None:\n",
    "    feat_cols = ['AvailabilityOverlap', 'AvailabilityScore']\n",
    "    if 'Capacity' in pairs.columns:\n",
    "        feat_cols.append('Capacity')\n",
    "    elif 'SupervisorCapacity' in pairs.columns:\n",
    "        feat_cols.append('SupervisorCapacity')\n",
    "\n",
    "    X = pairs[feat_cols]\n",
    "    y = pairs['Label']\n",
    "    X_tr, X_va, y_tr, y_va = train_test_split(\n",
    "        X, y, test_size=0.2, stratify=y, random_state=42\n",
    "    )\n",
    "\n",
    "    pipe = Pipeline([\n",
    "        ('scaler', StandardScaler()),\n",
    "        ('clf', LogisticRegression(max_iter=2000))\n",
    "    ])\n",
    "    pipe.fit(X_tr, y_tr)\n",
    "    accuracy = pipe.score(X_va, y_va)\n",
    "    print(f'Validation accuracy: {accuracy:.3f}')\n",
    "    print('Note: synthetic data is heavily positive, so the confusion matrix collapses to a single class.')\n",
    "\n",
    "    print('=== Validation (zero_division=0) ===')\n",
    "    print(classification_report(y_va, pipe.predict(X_va), zero_division=0))\n",
    "\n",
    "    y_pred = pipe.predict(X_va)\n",
    "    cm = confusion_matrix(y_va, y_pred, labels=[0, 1])\n",
    "    tn, fp, fn, tp = cm[0, 0], cm[0, 1], cm[1, 0], cm[1, 1]\n",
    "    disp = ConfusionMatrixDisplay(cm, display_labels=[0, 1])\n",
    "    disp.plot(values_format='d')\n",
    "    plt.title('Confusion Matrix (Validation)')\n",
    "    print(f'Confusion-matrix counts \u2192 TN={tn}, FP={fp}, FN={fn}, TP={tp}')\n",
    "    print('Dark purple cells mean zero pairs; brighter yellow/green highlights larger counts. The lower-right value is the correctly predicted matches (true positives).')\n",
    "    plt.show()\n",
    "\n",
    "    y_score = pipe.predict_proba(X_va)[:, 1]\n",
    "    prec, rec, thr = precision_recall_curve(y_va, y_score)\n",
    "    ap = average_precision_score(y_va, y_score)\n",
    "    plt.figure()\n",
    "    plt.plot(rec, prec)\n",
    "    plt.xlabel('Recall')\n",
    "    plt.ylabel('Precision')\n",
    "    plt.title(f'Precision-Recall (AP={ap:.3f})')\n",
    "    plt.grid(True, alpha=0.3)\n",
    "    plt.show()\n",
    "else:\n",
    "    print('Pairs not found \u2014 run the pipeline cell first.')\n"
   ]
  },
  {
   "cell_type": "markdown",
   "id": "59f96d67",
   "metadata": {
    "id": "59f96d67"
   },
   "source": [
    "### Interpreting the confusion matrix\n",
    "\n",
    "Colors follow the default viridis scale: dark purple means zero pairs, green/yellow marks higher counts. The lower-right number represents the true positives (correctly predicted matches), and the printed legend under the chart restates each cell so you can narrate results live.\n"
   ]
  },
  {
   "cell_type": "markdown",
   "id": "c0ffa008",
   "metadata": {
    "id": "c0ffa008"
   },
   "source": [
    "## 3) Capacity-aware greedy assignment\n",
    "\n",
    "After scoring, we sort pairs by the ML score and walk the list once: assign each associate to the highest-rated supervisor who still has remaining `Capacity`. That greedy pass guarantees we never overbook anyone.\n"
   ]
  },
  {
   "cell_type": "code",
   "execution_count": null,
   "id": "8b763e70",
   "metadata": {
    "id": "8b763e70"
   },
   "outputs": [],
   "source": [
    "\n",
    "if matches is not None:\n",
    "    print('Rows:', len(matches))\n",
    "    if 'assoc_idx' in matches.columns:\n",
    "        print('Duplicate associate assignments:', matches['assoc_idx'].duplicated().sum())\n",
    "    else:\n",
    "        print('assoc_idx missing; skip duplicate check.')\n",
    "    if 'sup_idx' in matches.columns and 'Capacity' in matches.columns:\n",
    "        used = matches.groupby('sup_idx').size().rename('assigned')\n",
    "        cap = matches[['sup_idx','Capacity']].drop_duplicates().set_index('sup_idx')['Capacity']\n",
    "        cap_check = used.to_frame().join(cap, how='left')\n",
    "        cap_check['over'] = cap_check['assigned'] - cap_check['Capacity']\n",
    "        print('Any supervisors over capacity? ->', (cap_check['over']>0).any())\n",
    "        display(cap_check.head(10))\n",
    "    else:\n",
    "        print('sup_idx/Capacity missing; skip capacity check.')\n",
    "else:\n",
    "    print('Matches not found.')\n"
   ]
  },
  {
   "cell_type": "markdown",
   "id": "754f3ac4",
   "metadata": {
    "id": "754f3ac4"
   },
   "source": [
    "## 4) Peek inside saved model (feature weights)\n"
   ]
  },
  {
   "cell_type": "code",
   "execution_count": null,
   "id": "f2b0e9af",
   "metadata": {
    "id": "f2b0e9af"
   },
   "outputs": [],
   "source": [
    "\n",
    "from joblib import load\n",
    "import pandas as pd\n",
    "\n",
    "if model_path.exists():\n",
    "    bundle = load(model_path)\n",
    "    model = bundle['model']; feats = bundle['features']\n",
    "    try:\n",
    "        coef = model.named_steps['clf'].coef_.ravel()\n",
    "        display(pd.DataFrame({'feature': feats, 'weight': coef}).sort_values('weight', ascending=False))\n",
    "    except Exception as e:\n",
    "        print('Could not read coefficients:', e)\n",
    "else:\n",
    "    print('Model not found.')\n"
   ]
  },
  {
   "cell_type": "markdown",
   "id": "42ab2cee",
   "metadata": {
    "id": "42ab2cee"
   },
   "source": [
    "## 5) Diagnostics & tuning ideas\n",
    "\n",
    "Use these outputs to audit the matching pipeline. For confusion matrices as rich as the fruit classifier example, curate a dataset with meaningful negatives or engineered availability features (e.g., binary columns for each day/slot).\n",
    "\n",
    "- Add tougher negative pairs or class weighting to balance the training data.\n",
    "- Engineer structured availability features (`Monday 08:00 AM`, `Tuesday 02:30 PM`, \u2026) for more expressive models.\n",
    "- Replace the greedy assignment with an optimal matcher (Hungarian/ILP) if capacity juggling becomes complex.\n"
   ]
  },
  {
   "cell_type": "markdown",
   "id": "5473e4ff",
   "metadata": {
    "id": "5473e4ff"
   },
   "source": [
    "## 6) Match outcomes overview\n",
    "\n",
    "Re-run the cell below after each pipeline execution to refresh totals, highlight top pairings, and show capacity utilization for the demo.\n"
   ]
  },
  {
   "cell_type": "code",
   "execution_count": null,
   "id": "2c8da3bf",
   "metadata": {
    "id": "2c8da3bf"
   },
   "outputs": [],
   "source": [
    "\n",
    "import pandas as pd\n",
    "from IPython.display import display, Markdown\n",
    "\n",
    "def _fmt_pct(numer, denom):\n",
    "    return f\"{(numer/denom*100):.1f}%\" if denom and denom > 0 else 'n/a'\n",
    "\n",
    "if matches is not None:\n",
    "    total_matches = len(matches)\n",
    "    matched_associates = matches['Associate'].nunique()\n",
    "    matched_supervisors = matches['Supervisor'].nunique()\n",
    "    total_associates = len(associates_df) if 'associates_df' in globals() else None\n",
    "    total_supervisors = len(supervisors_df) if 'supervisors_df' in globals() else None\n",
    "    unassigned_count = len(unassigned) if unassigned is not None else None\n",
    "\n",
    "    assoc_pct = _fmt_pct(matched_associates, total_associates) if total_associates else 'n/a'\n",
    "    sup_pct = _fmt_pct(matched_supervisors, total_supervisors) if total_supervisors else 'n/a'\n",
    "\n",
    "    headline = (f\"Matched {matched_associates} of {total_associates} associates ({assoc_pct})\"\n",
    "                if total_associates else f\"Matched associates: {matched_associates}\")\n",
    "    headline_sup = (f\"Supervisors engaged: {matched_supervisors} of {total_supervisors} ({sup_pct})\"\n",
    "                    if total_supervisors else f\"Supervisors engaged: {matched_supervisors}\")\n",
    "    waiting = (f\"Associates still waiting: {unassigned_count}\"\n",
    "               if unassigned_count is not None else 'Associates still waiting: n/a')\n",
    "\n",
    "    display(Markdown(\n",
    "        \"### Hackathon-ready snapshot\"\n",
    "        f\"- {headline}\"\n",
    "        f\"- {headline_sup}\"\n",
    "        f\"- {waiting}\"\n",
    "        f\"- Average final score: {matches['final_score'].mean():.3f}\"\n",
    "        f\"- Average availability score: {matches['AvailabilityScore'].mean():.3f}\"\n",
    "    ))\n",
    "\n",
    "    summary_rows = [\n",
    "        ('Total matches generated', total_matches),\n",
    "        ('Associates matched', f\"{matched_associates} / {total_associates} ({assoc_pct})\" if total_associates else matched_associates),\n",
    "        ('Supervisors participating', f\"{matched_supervisors} / {total_supervisors} ({sup_pct})\" if total_supervisors else matched_supervisors),\n",
    "        ('Associates still unassigned', unassigned_count),\n",
    "        ('Average final score', f\"{matches['final_score'].mean():.3f}\"),\n",
    "        ('Average availability score', f\"{matches['AvailabilityScore'].mean():.3f}\"),\n",
    "    ]\n",
    "    summary_df = pd.DataFrame(summary_rows, columns=['Metric', 'Value'])\n",
    "    display(summary_df)\n",
    "\n",
    "    top_matches = (matches[['Associate','Supervisor','Associate State','Supervisor State',\n",
    "                            'AvailabilityOverlap','AvailabilityScore','final_score']]\n",
    "                   .sort_values('final_score', ascending=False)\n",
    "                   .head(10))\n",
    "    print('Top 10 matches by final score:')\n",
    "    display(top_matches)\n",
    "\n",
    "    capacity_usage = (matches.groupby(['Supervisor','Capacity']).size()\n",
    "                       .rename('Assigned')\n",
    "                       .reset_index())\n",
    "    capacity_usage['Remaining'] = capacity_usage['Capacity'] - capacity_usage['Assigned']\n",
    "    print('Capacity snapshot (next 10 most utilized supervisors):')\n",
    "    display(capacity_usage.sort_values(['Remaining','Assigned']).head(10))\n",
    "else:\n",
    "    print('Matches not found \u2014 run the pipeline cell first.')\n",
    "\n"
   ]
  },
  {
   "cell_type": "markdown",
   "metadata": {
    "id": "Svm954AsBuuN"
   },
   "source": [
    "## 7) Visualize match coverage\n",
    "\n",
    "Quick visuals to showcase how capacity is being used and where associates remain unmatched.\n"
   ],
   "id": "Svm954AsBuuN"
  },
  {
   "cell_type": "code",
   "execution_count": null,
   "metadata": {
    "id": "vG6KkzzhBuuN"
   },
   "outputs": [],
   "source": [
    "\n",
    "import matplotlib.pyplot as plt\n",
    "import numpy as np\n",
    "\n",
    "if matches is not None:\n",
    "    sup_usage = (matches.groupby(['Supervisor','Capacity']).size()\n",
    "                 .rename('Assigned')\n",
    "                 .reset_index())\n",
    "    sup_usage['Remaining'] = sup_usage['Capacity'] - sup_usage['Assigned']\n",
    "    top_sup = sup_usage.sort_values('Assigned', ascending=False).head(10)\n",
    "\n",
    "    def _split_state(value):\n",
    "        if not isinstance(value, str):\n",
    "            return []\n",
    "        parts = [p.strip() for p in value.replace(';',',').split(',') if p.strip()]\n",
    "        return parts or ['Unknown']\n",
    "\n",
    "    if unassigned is not None and len(unassigned):\n",
    "        state_counts = {}\n",
    "        for s in unassigned['State']:\n",
    "            for part in _split_state(s):\n",
    "                state_counts[part] = state_counts.get(part, 0) + 1\n",
    "        state_df = (pd.Series(state_counts, name='Unassigned')\n",
    "                     .sort_values(ascending=False)\n",
    "                     .head(10)\n",
    "                     .reset_index()\n",
    "                     .rename(columns={'index':'State'}))\n",
    "    else:\n",
    "        state_df = pd.DataFrame({'State':[], 'Unassigned':[]})\n",
    "\n",
    "    fig, axes = plt.subplots(1, 2, figsize=(14, 5))\n",
    "\n",
    "    if not top_sup.empty:\n",
    "        ax = axes[0]\n",
    "        y = np.arange(len(top_sup))\n",
    "        ax.barh(y, top_sup['Capacity'], color='#d0d7de', label='Capacity')\n",
    "        ax.barh(y, top_sup['Assigned'], color='#2da44e', label='Assigned')\n",
    "        ax.set_yticks(y)\n",
    "        ax.set_yticklabels(top_sup['Supervisor'])\n",
    "        ax.invert_yaxis()\n",
    "        ax.set_xlabel('Slots')\n",
    "        ax.set_title('Top supervisors by fill rate')\n",
    "        ax.legend()\n",
    "    else:\n",
    "        axes[0].axis('off')\n",
    "        axes[0].text(0.5, 0.5, 'No matches yet', ha='center', va='center')\n",
    "\n",
    "    if not state_df.empty:\n",
    "        ax = axes[1]\n",
    "        ax.bar(state_df['State'], state_df['Unassigned'], color='#bf2600')\n",
    "        ax.set_ylabel('Associates')\n",
    "        ax.set_title('Where associates still need placement (top 10 states)')\n",
    "        plt.setp(ax.get_xticklabels(), rotation=45, ha='right')\n",
    "    else:\n",
    "        axes[1].axis('off')\n",
    "        axes[1].text(0.5, 0.5, 'Everyone matched!', ha='center', va='center')\n",
    "\n",
    "    plt.tight_layout()\n",
    "    plt.show()\n",
    "else:\n",
    "    print('Matches not found \u2014 run the pipeline cell first.')\n",
    "\n"
   ],
   "id": "vG6KkzzhBuuN"
  },
  {
   "cell_type": "markdown",
   "metadata": {
    "id": "M0xbHzYfBuuN"
   },
   "source": [
    "## 8) Visual roster and drivers\n",
    "\n",
    "A single dashboard: donut for match coverage, bar chart for why pairs fail, and a color-coded roster so you can tour every associate quickly.\n"
   ],
   "id": "M0xbHzYfBuuN"
  },
  {
   "cell_type": "code",
   "execution_count": null,
   "metadata": {
    "id": "WnmwAD9rBuuN"
   },
   "outputs": [],
   "source": [
    "\n",
    "import pandas as pd\n",
    "import matplotlib.pyplot as plt\n",
    "\n",
    "if 'associates_df' in globals() and associates_df is not None:\n",
    "    roster = associates_df.rename(columns={\n",
    "        'Name': 'Associate',\n",
    "        'State': 'Associate State',\n",
    "        'License Type': 'Associate License',\n",
    "        'Availability': 'Associate Availability'\n",
    "    }).copy()\n",
    "    if matches is not None:\n",
    "        enrich_cols = ['Associate','Supervisor','Supervisor State',\n",
    "                       'AvailabilityOverlap','AvailabilityScore','final_score']\n",
    "        roster = roster.merge(matches[enrich_cols], on='Associate', how='left')\n",
    "    else:\n",
    "        roster['Supervisor'] = pd.NA\n",
    "        roster['Supervisor State'] = pd.NA\n",
    "        roster['AvailabilityOverlap'] = pd.NA\n",
    "        roster['AvailabilityScore'] = pd.NA\n",
    "        roster['final_score'] = pd.NA\n",
    "\n",
    "    roster['Match Status'] = roster['Supervisor'].fillna('').replace('', 'Unassigned')\n",
    "    roster.loc[roster['Match Status'] != 'Unassigned', 'Match Status'] = 'Matched'\n",
    "\n",
    "    match_counts = roster['Match Status'].value_counts()\n",
    "    reasons = None\n",
    "    if 'pairs' in globals() and pairs is not None:\n",
    "        reasons = pairs[pairs['Label'] == 0]['Reason'].value_counts().head(6)\n",
    "\n",
    "    fig, axes = plt.subplots(1, 2, figsize=(13, 5))\n",
    "\n",
    "    colors = ['#2da44e', '#bf2600']\n",
    "    axes[0].pie(match_counts, labels=match_counts.index, autopct='%1.1f%%', colors=colors[:len(match_counts)], startangle=90)\n",
    "    axes[0].set_title('Match coverage')\n",
    "    axes[0].axis('equal')\n",
    "\n",
    "    if reasons is not None and not reasons.empty:\n",
    "        axes[1].bar(reasons.index, reasons.values, color='#f9aa33')\n",
    "        axes[1].set_title('Top reasons pairs fail hard filters/ML')\n",
    "        axes[1].set_ylabel('Pairs')\n",
    "        plt.setp(axes[1].get_xticklabels(), rotation=30, ha='right')\n",
    "    else:\n",
    "        axes[1].axis('off')\n",
    "        axes[1].text(0.5, 0.5, 'No negative pairs in sample', ha='center', va='center')\n",
    "\n",
    "    plt.tight_layout()\n",
    "    plt.show()\n",
    "\n",
    "    roster_view = roster[['Associate','Associate State','Associate License','Match Status','Supervisor','Supervisor State','final_score','AvailabilityScore']]\n",
    "\n",
    "    def status_style(val):\n",
    "        if val == 'Matched':\n",
    "            return 'background-color:#2da44e; color:white'\n",
    "        if val == 'Unassigned':\n",
    "            return 'background-color:#bf2600; color:white'\n",
    "        return ''\n",
    "\n",
    "    styled = (roster_view.style\n",
    "              .applymap(status_style, subset=['Match Status'])\n",
    "              .background_gradient(cmap='Blues', subset=['final_score','AvailabilityScore'])\n",
    "              .format({'final_score':'{:.3f}','AvailabilityScore':'{:.3f}'}, na_rep='\u2014'))\n",
    "    display(styled)\n",
    "else:\n",
    "    print('Associates dataset not loaded \u2014 run the earlier cells first.')\n",
    "\n"
   ],
   "id": "WnmwAD9rBuuN"
  }
 ],
 "metadata": {
  "kernelspec": {
   "display_name": "venv",
   "language": "python",
   "name": "python3"
  },
  "language_info": {
   "codemirror_mode": {
    "name": "ipython",
    "version": 3
   },
   "file_extension": ".py",
   "mimetype": "text/x-python",
   "name": "python",
   "nbconvert_exporter": "python",
   "pygments_lexer": "ipython3",
   "version": "3.13.7"
  },
  "colab": {
   "provenance": [],
   "toc_visible": true
  }
 },
 "nbformat": 4,
 "nbformat_minor": 5
}