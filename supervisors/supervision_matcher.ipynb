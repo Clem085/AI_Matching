{
 "cells": [
  {
   "cell_type": "markdown",
   "id": "a09a4424",
   "metadata": {},
   "source": [
    "# Supervision Matcher (Filters + ML + Capacity)\n",
    "\n",
    "This notebook matches **Associates** to **Supervisors**.\n",
    "\n",
    "**Pipeline**\n",
    "1. **Deterministic filters (no ML):** `State` must match exactly, and Associate **License Type** must exist in Supervisor **Who can you supervise?`**.\n",
    "2. **Availability similarity (ML):** TF‑IDF + cosine similarity using the free‑text `Availability` fields.\n",
    "3. **Capacity‑aware assignment:** Greedy highest‑score allocation; no supervisor is over capacity.\n",
    "\n",
    "**Inputs** (same folder as notebook)\n",
    "- `Supervision Matching Program - Supervisors.csv`\n",
    "- `Supervision Matching Program - Associates.csv`\n",
    "\n",
    "**Outputs**\n",
    "- `supervision_matches.csv`\n",
    "- `associates_unassigned.csv`\n"
   ]
  },
  {
   "cell_type": "code",
   "execution_count": 1,
   "id": "924a863a",
   "metadata": {},
   "outputs": [],
   "source": [
    "# (Optional) install dependencies in this environment\n",
    "# !pip install -q pandas numpy scikit-learn"
   ]
  },
  {
   "cell_type": "code",
   "execution_count": 2,
   "id": "dd6772aa",
   "metadata": {},
   "outputs": [
    {
     "ename": "AssertionError",
     "evalue": "Missing /home/connor/Sophias_Mom/supervisors/Supervision Matching Program - Supervisors.csv",
     "output_type": "error",
     "traceback": [
      "\u001b[31m---------------------------------------------------------------------------\u001b[39m",
      "\u001b[31mAssertionError\u001b[39m                            Traceback (most recent call last)",
      "\u001b[36mCell\u001b[39m\u001b[36m \u001b[39m\u001b[32mIn[2]\u001b[39m\u001b[32m, line 9\u001b[39m\n\u001b[32m      6\u001b[39m SUPERVISORS_CSV = Path(\u001b[33m'\u001b[39m\u001b[33mSupervision Matching Program - Supervisors.csv\u001b[39m\u001b[33m'\u001b[39m)\n\u001b[32m      7\u001b[39m ASSOCIATES_CSV  = Path(\u001b[33m'\u001b[39m\u001b[33mSupervision Matching Program - Associates.csv\u001b[39m\u001b[33m'\u001b[39m)\n\u001b[32m----> \u001b[39m\u001b[32m9\u001b[39m \u001b[38;5;28;01massert\u001b[39;00m SUPERVISORS_CSV.exists(), \u001b[33mf\u001b[39m\u001b[33m'\u001b[39m\u001b[33mMissing \u001b[39m\u001b[38;5;132;01m{\u001b[39;00mSUPERVISORS_CSV.resolve()\u001b[38;5;132;01m}\u001b[39;00m\u001b[33m'\u001b[39m\n\u001b[32m     10\u001b[39m \u001b[38;5;28;01massert\u001b[39;00m ASSOCIATES_CSV.exists(), \u001b[33mf\u001b[39m\u001b[33m'\u001b[39m\u001b[33mMissing \u001b[39m\u001b[38;5;132;01m{\u001b[39;00mASSOCIATES_CSV.resolve()\u001b[38;5;132;01m}\u001b[39;00m\u001b[33m'\u001b[39m\n\u001b[32m     12\u001b[39m sup = pd.read_csv(SUPERVISORS_CSV)\n",
      "\u001b[31mAssertionError\u001b[39m: Missing /home/connor/Sophias_Mom/supervisors/Supervision Matching Program - Supervisors.csv"
     ]
    }
   ],
   "source": [
    "from pathlib import Path\n",
    "import pandas as pd\n",
    "import numpy as np\n",
    "\n",
    "# Paths (files must be in the same folder as this notebook)\n",
    "SUPERVISORS_CSV = Path('Supervision Matching Program - Supervisors.csv')\n",
    "ASSOCIATES_CSV  = Path('Supervision Matching Program - Associates.csv')\n",
    "\n",
    "assert SUPERVISORS_CSV.exists(), f'Missing {SUPERVISORS_CSV.resolve()}'\n",
    "assert ASSOCIATES_CSV.exists(), f'Missing {ASSOCIATES_CSV.resolve()}'\n",
    "\n",
    "sup = pd.read_csv(SUPERVISORS_CSV)\n",
    "assoc = pd.read_csv(ASSOCIATES_CSV)\n",
    "\n",
    "print('Supervisors:', sup.shape, 'Associates:', assoc.shape)\n",
    "display(sup.head(3))\n",
    "display(assoc.head(3))"
   ]
  },
  {
   "cell_type": "code",
   "execution_count": null,
   "id": "c21bdb24",
   "metadata": {},
   "outputs": [
    {
     "data": {
      "text/html": [
       "<div>\n",
       "<style scoped>\n",
       "    .dataframe tbody tr th:only-of-type {\n",
       "        vertical-align: middle;\n",
       "    }\n",
       "\n",
       "    .dataframe tbody tr th {\n",
       "        vertical-align: top;\n",
       "    }\n",
       "\n",
       "    .dataframe thead th {\n",
       "        text-align: right;\n",
       "    }\n",
       "</style>\n",
       "<table border=\"1\" class=\"dataframe\">\n",
       "  <thead>\n",
       "    <tr style=\"text-align: right;\">\n",
       "      <th></th>\n",
       "      <th>Name</th>\n",
       "      <th>State</th>\n",
       "      <th>State_norm</th>\n",
       "      <th>Who can you supervise?</th>\n",
       "      <th>WhoSet</th>\n",
       "      <th>Capacity</th>\n",
       "      <th>Capacity_int</th>\n",
       "    </tr>\n",
       "  </thead>\n",
       "  <tbody>\n",
       "    <tr>\n",
       "      <th>0</th>\n",
       "      <td>Test</td>\n",
       "      <td>Illinois, Iowa, North Carolina, South Carolina</td>\n",
       "      <td>ILLINOIS, IOWA, NORTH CAROLINA, SOUTH CAROLINA</td>\n",
       "      <td>Psychologist</td>\n",
       "      <td>{PSYCHOLOGIST}</td>\n",
       "      <td>2</td>\n",
       "      <td>2</td>\n",
       "    </tr>\n",
       "    <tr>\n",
       "      <th>1</th>\n",
       "      <td>Connor</td>\n",
       "      <td>Illinois, New Mexico, North Carolina</td>\n",
       "      <td>ILLINOIS, NEW MEXICO, NORTH CAROLINA</td>\n",
       "      <td>Social Worker, Counselor</td>\n",
       "      <td>{COUNSELOR, SOCIAL WORKER}</td>\n",
       "      <td>4</td>\n",
       "      <td>4</td>\n",
       "    </tr>\n",
       "    <tr>\n",
       "      <th>2</th>\n",
       "      <td>Philip</td>\n",
       "      <td>Illinois, New Mexico, North Carolina</td>\n",
       "      <td>ILLINOIS, NEW MEXICO, NORTH CAROLINA</td>\n",
       "      <td>Social Worker, Counselor</td>\n",
       "      <td>{COUNSELOR, SOCIAL WORKER}</td>\n",
       "      <td>4</td>\n",
       "      <td>4</td>\n",
       "    </tr>\n",
       "  </tbody>\n",
       "</table>\n",
       "</div>"
      ],
      "text/plain": [
       "     Name                                           State  \\\n",
       "0    Test  Illinois, Iowa, North Carolina, South Carolina   \n",
       "1  Connor            Illinois, New Mexico, North Carolina   \n",
       "2  Philip            Illinois, New Mexico, North Carolina   \n",
       "\n",
       "                                       State_norm    Who can you supervise?  \\\n",
       "0  ILLINOIS, IOWA, NORTH CAROLINA, SOUTH CAROLINA              Psychologist   \n",
       "1            ILLINOIS, NEW MEXICO, NORTH CAROLINA  Social Worker, Counselor   \n",
       "2            ILLINOIS, NEW MEXICO, NORTH CAROLINA  Social Worker, Counselor   \n",
       "\n",
       "                       WhoSet  Capacity  Capacity_int  \n",
       "0              {PSYCHOLOGIST}         2             2  \n",
       "1  {COUNSELOR, SOCIAL WORKER}         4             4  \n",
       "2  {COUNSELOR, SOCIAL WORKER}         4             4  "
      ]
     },
     "metadata": {},
     "output_type": "display_data"
    },
    {
     "data": {
      "text/html": [
       "<div>\n",
       "<style scoped>\n",
       "    .dataframe tbody tr th:only-of-type {\n",
       "        vertical-align: middle;\n",
       "    }\n",
       "\n",
       "    .dataframe tbody tr th {\n",
       "        vertical-align: top;\n",
       "    }\n",
       "\n",
       "    .dataframe thead th {\n",
       "        text-align: right;\n",
       "    }\n",
       "</style>\n",
       "<table border=\"1\" class=\"dataframe\">\n",
       "  <thead>\n",
       "    <tr style=\"text-align: right;\">\n",
       "      <th></th>\n",
       "      <th>Name</th>\n",
       "      <th>State</th>\n",
       "      <th>State_norm</th>\n",
       "      <th>License Type</th>\n",
       "      <th>License_norm</th>\n",
       "    </tr>\n",
       "  </thead>\n",
       "  <tbody>\n",
       "    <tr>\n",
       "      <th>0</th>\n",
       "      <td>Sophia Cauwels</td>\n",
       "      <td>North Carolina</td>\n",
       "      <td>NORTH CAROLINA</td>\n",
       "      <td>Counselor</td>\n",
       "      <td>COUNSELOR</td>\n",
       "    </tr>\n",
       "    <tr>\n",
       "      <th>1</th>\n",
       "      <td>HELLO</td>\n",
       "      <td>North Carolina</td>\n",
       "      <td>NORTH CAROLINA</td>\n",
       "      <td>Social Worker</td>\n",
       "      <td>SOCIAL WORKER</td>\n",
       "    </tr>\n",
       "    <tr>\n",
       "      <th>2</th>\n",
       "      <td>GOODBYE</td>\n",
       "      <td>California</td>\n",
       "      <td>CALIFORNIA</td>\n",
       "      <td>Social Worker</td>\n",
       "      <td>SOCIAL WORKER</td>\n",
       "    </tr>\n",
       "  </tbody>\n",
       "</table>\n",
       "</div>"
      ],
      "text/plain": [
       "             Name           State      State_norm   License Type  \\\n",
       "0  Sophia Cauwels  North Carolina  NORTH CAROLINA      Counselor   \n",
       "1           HELLO  North Carolina  NORTH CAROLINA  Social Worker   \n",
       "2         GOODBYE      California      CALIFORNIA  Social Worker   \n",
       "\n",
       "    License_norm  \n",
       "0      COUNSELOR  \n",
       "1  SOCIAL WORKER  \n",
       "2  SOCIAL WORKER  "
      ]
     },
     "metadata": {},
     "output_type": "display_data"
    }
   ],
   "source": [
    "# ---- Normalization helpers\n",
    "def normalize_state(s):\n",
    "    return str(s).strip().upper()\n",
    "\n",
    "def parse_license_list(s):\n",
    "    if pd.isna(s):\n",
    "        return set()\n",
    "    s = str(s)\n",
    "    parts = [p.strip().upper() for p in s.replace(';', ',').split(',') if p.strip()]\n",
    "    return set(parts) if parts else {s.strip().upper()}\n",
    "\n",
    "def coerce_int(x, default=1):\n",
    "    try:\n",
    "        v = int(x)\n",
    "        return v if v >= 0 else default\n",
    "    except Exception:\n",
    "        return default\n",
    "\n",
    "# ---- Normalize columns\n",
    "sup = sup.copy()\n",
    "assoc = assoc.copy()\n",
    "\n",
    "sup['State_norm'] = sup['State'].map(normalize_state)\n",
    "assoc['State_norm'] = assoc['State'].map(normalize_state)\n",
    "\n",
    "sup['WhoSet'] = sup['Who can you supervise?'].map(parse_license_list)\n",
    "assoc['License_norm'] = assoc['License Type'].astype(str).str.strip().str.upper()\n",
    "\n",
    "sup['Capacity_int'] = sup['Capacity'].map(coerce_int)\n",
    "\n",
    "display(sup[['Name','State','State_norm','Who can you supervise?','WhoSet','Capacity','Capacity_int']].head(5))\n",
    "display(assoc[['Name','State','State_norm','License Type','License_norm']].head(5))"
   ]
  },
  {
   "cell_type": "markdown",
   "id": "97a8dde9",
   "metadata": {},
   "source": [
    "## 1) Hard filter: exact State + License inclusion"
   ]
  },
  {
   "cell_type": "code",
   "execution_count": null,
   "id": "c9245834",
   "metadata": {},
   "outputs": [
    {
     "name": "stdout",
     "output_type": "stream",
     "text": [
      "Candidate pairs after filter: 0\n"
     ]
    },
    {
     "data": {
      "text/html": [
       "<div>\n",
       "<style scoped>\n",
       "    .dataframe tbody tr th:only-of-type {\n",
       "        vertical-align: middle;\n",
       "    }\n",
       "\n",
       "    .dataframe tbody tr th {\n",
       "        vertical-align: top;\n",
       "    }\n",
       "\n",
       "    .dataframe thead th {\n",
       "        text-align: right;\n",
       "    }\n",
       "</style>\n",
       "<table border=\"1\" class=\"dataframe\">\n",
       "  <thead>\n",
       "    <tr style=\"text-align: right;\">\n",
       "      <th></th>\n",
       "    </tr>\n",
       "  </thead>\n",
       "  <tbody>\n",
       "  </tbody>\n",
       "</table>\n",
       "</div>"
      ],
      "text/plain": [
       "Empty DataFrame\n",
       "Columns: []\n",
       "Index: []"
      ]
     },
     "metadata": {},
     "output_type": "display_data"
    }
   ],
   "source": [
    "# Build candidate pairs by exact criteria\n",
    "candidates = []\n",
    "for ai, a in assoc.iterrows():\n",
    "    for sj, s in sup.iterrows():\n",
    "        if a['State_norm'] != s['State_norm']:\n",
    "            continue\n",
    "        if a['License_norm'] not in s['WhoSet']:\n",
    "            continue\n",
    "        candidates.append({\n",
    "            'assoc_idx': ai,\n",
    "            'sup_idx': sj,\n",
    "            'Associate': a['Name'],\n",
    "            'Associate Email': a['Email Address'],\n",
    "            'Associate State': a['State'],\n",
    "            'Associate License': a['License Type'],\n",
    "            'Supervisor': s['Name'],\n",
    "            'Supervisor Email': s['Email Address'],\n",
    "            'Supervisor State': s['State'],\n",
    "            'Who can you supervise?': s['Who can you supervise?'],\n",
    "        })\n",
    "\n",
    "cand_df = pd.DataFrame(candidates)\n",
    "print(f'Candidate pairs after filter: {len(cand_df)}')\n",
    "display(cand_df.head(10))"
   ]
  },
  {
   "cell_type": "markdown",
   "id": "80341f5a",
   "metadata": {},
   "source": [
    "## 2) Availability similarity (TF‑IDF cosine)"
   ]
  },
  {
   "cell_type": "code",
   "execution_count": null,
   "id": "95361744",
   "metadata": {},
   "outputs": [
    {
     "data": {
      "text/html": [
       "<div>\n",
       "<style scoped>\n",
       "    .dataframe tbody tr th:only-of-type {\n",
       "        vertical-align: middle;\n",
       "    }\n",
       "\n",
       "    .dataframe tbody tr th {\n",
       "        vertical-align: top;\n",
       "    }\n",
       "\n",
       "    .dataframe thead th {\n",
       "        text-align: right;\n",
       "    }\n",
       "</style>\n",
       "<table border=\"1\" class=\"dataframe\">\n",
       "  <thead>\n",
       "    <tr style=\"text-align: right;\">\n",
       "      <th></th>\n",
       "      <th>availability_score</th>\n",
       "    </tr>\n",
       "  </thead>\n",
       "  <tbody>\n",
       "  </tbody>\n",
       "</table>\n",
       "</div>"
      ],
      "text/plain": [
       "Empty DataFrame\n",
       "Columns: [availability_score]\n",
       "Index: []"
      ]
     },
     "metadata": {},
     "output_type": "display_data"
    }
   ],
   "source": [
    "from sklearn.feature_extraction.text import TfidfVectorizer\n",
    "from sklearn.metrics.pairwise import cosine_similarity\n",
    "\n",
    "assoc_avail = assoc['Availability'].fillna('').astype(str).values\n",
    "sup_avail   = sup['Availability'].fillna('').astype(str).values\n",
    "\n",
    "vectorizer = TfidfVectorizer(lowercase=True, stop_words='english', ngram_range=(1,2))\n",
    "X_assoc = vectorizer.fit_transform(assoc_avail)\n",
    "X_sup   = vectorizer.transform(sup_avail)\n",
    "\n",
    "scores = []\n",
    "for _, row in cand_df.iterrows():\n",
    "    ai = int(row['assoc_idx'])\n",
    "    sj = int(row['sup_idx'])\n",
    "    sim = cosine_similarity(X_assoc[ai], X_sup[sj]).ravel()[0]\n",
    "    scores.append(sim)\n",
    "cand_df['availability_score'] = scores\n",
    "\n",
    "display(cand_df.sort_values('availability_score', ascending=False).head(10))"
   ]
  },
  {
   "cell_type": "markdown",
   "id": "ee79c8b8",
   "metadata": {},
   "source": [
    "## 3) Capacity‑aware greedy assignment"
   ]
  },
  {
   "cell_type": "code",
   "execution_count": null,
   "id": "5e4e6e22",
   "metadata": {},
   "outputs": [
    {
     "ename": "NameError",
     "evalue": "name 'sup' is not defined",
     "output_type": "error",
     "traceback": [
      "\u001b[31m---------------------------------------------------------------------------\u001b[39m",
      "\u001b[31mNameError\u001b[39m                                 Traceback (most recent call last)",
      "\u001b[36mCell\u001b[39m\u001b[36m \u001b[39m\u001b[32mIn[1]\u001b[39m\u001b[32m, line 1\u001b[39m\n\u001b[32m----> \u001b[39m\u001b[32m1\u001b[39m sup_capacity_left = \u001b[43msup\u001b[49m[\u001b[33m'\u001b[39m\u001b[33mCapacity_int\u001b[39m\u001b[33m'\u001b[39m].to_dict()  \u001b[38;5;66;03m# keyed by supervisor row index\u001b[39;00m\n\u001b[32m      2\u001b[39m assigned_assoc = \u001b[38;5;28mset\u001b[39m()\n\u001b[32m      3\u001b[39m assignments = []\n",
      "\u001b[31mNameError\u001b[39m: name 'sup' is not defined"
     ]
    }
   ],
   "source": [
    "sup_capacity_left = sup['Capacity_int'].to_dict()  # keyed by supervisor row index\n",
    "assigned_assoc = set()\n",
    "assignments = []\n",
    "\n",
    "for _, row in cand_df.sort_values('availability_score', ascending=False).iterrows():\n",
    "    ai = int(row['assoc_idx'])\n",
    "    sj = int(row['sup_idx'])\n",
    "    if ai in assigned_assoc:\n",
    "        continue\n",
    "    if sup_capacity_left.get(sj, 0) <= 0:\n",
    "        continue\n",
    "    # assign\n",
    "    assigned_assoc.add(ai)\n",
    "    sup_capacity_left[sj] = sup_capacity_left.get(sj, 0) - 1\n",
    "    assignments.append(row)\n",
    "\n",
    "assign_df = pd.DataFrame(assignments).reset_index(drop=True)\n",
    "print(f'Assigned {len(assign_df)} of {len(assoc)} associates')\n",
    "# Safe display (avoids KeyError if columns missing or no assignments)\n",
    "cols = ['Associate','Associate License','Supervisor','availability_score']\n",
    "display(assign_df.reindex(columns=[c for c in cols if c in assign_df.columns]).head(20))\n"
   ]
  },
  {
   "cell_type": "markdown",
   "id": "62072dfe",
   "metadata": {},
   "source": [
    "## 4) Save results"
   ]
  },
  {
   "cell_type": "code",
   "execution_count": null,
   "id": "a678a0f8",
   "metadata": {},
   "outputs": [],
   "source": [
    "OUT_MATCHES = Path('supervision_matches.csv')\n",
    "OUT_UNASSIGNED = Path('associates_unassigned.csv')\n",
    "\n",
    "assign_df.to_csv(OUT_MATCHES, index=False)\n",
    "\n",
    "assigned_set = set(assign_df['assoc_idx'].tolist())\n",
    "unassigned = assoc.loc[~assoc.index.isin(assigned_set)].copy()\n",
    "unassigned.to_csv(OUT_UNASSIGNED, index=False)\n",
    "\n",
    "print('Wrote ->', OUT_MATCHES.resolve())\n",
    "print('Wrote ->', OUT_UNASSIGNED.resolve())"
   ]
  }
 ],
 "metadata": {
  "kernelspec": {
   "display_name": "venv",
   "language": "python",
   "name": "python3"
  },
  "language_info": {
   "codemirror_mode": {
    "name": "ipython",
    "version": 3
   },
   "file_extension": ".py",
   "mimetype": "text/x-python",
   "name": "python",
   "nbconvert_exporter": "python",
   "pygments_lexer": "ipython3",
   "version": "3.13.7"
  }
 },
 "nbformat": 4,
 "nbformat_minor": 5
}
