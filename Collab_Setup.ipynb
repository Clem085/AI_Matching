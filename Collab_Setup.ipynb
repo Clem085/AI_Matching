{
  "cells": [
    {
      "cell_type": "markdown",
      "metadata": {
        "id": "view-in-github",
        "colab_type": "text"
      },
      "source": [
        "<a href=\"https://colab.research.google.com/github/Clem085/AI_Matching/blob/main/Collab_Setup.ipynb\" target=\"_parent\"><img src=\"https://colab.research.google.com/assets/colab-badge.svg\" alt=\"Open In Colab\"/></a>"
      ]
    },
    {
      "cell_type": "markdown",
      "id": "bca045d9",
      "metadata": {
        "id": "bca045d9"
      },
      "source": [
        "# 🚀 Colab Setup — AI_Matching"
      ]
    },
    {
      "cell_type": "markdown",
      "id": "7b28e33e",
      "metadata": {
        "id": "7b28e33e"
      },
      "source": [
        "import os, sys\n",
        "from pathlib import Path\n",
        "\n",
        "REPO_URL = 'https://github.com/Clem085/AI_Matching.git'\n",
        "WORKDIR = Path('/content/AI_Matching')\n",
        "\n",
        "if WORKDIR.exists():\n",
        "    print('Removing existing checkout at', WORKDIR)\n",
        "    !rm -rf {WORKDIR}\n",
        "\n",
        "!git clone {REPO_URL} {WORKDIR}\n",
        "os.chdir(WORKDIR)\n",
        "print('Working directory:', Path.cwd())\n",
        "if str((Path('ai_matching')).resolve()) not in sys.path:\n",
        "    sys.path.insert(0, str((Path('ai_matching')).resolve()))\n",
        "!ls\n"
      ]
    },
    {
      "cell_type": "markdown",
      "id": "c04a1bd3",
      "metadata": {
        "id": "c04a1bd3"
      },
      "source": [
        "!pip install -q -r requirements.txt\n"
      ]
    },
    {
      "cell_type": "code",
      "execution_count": 1,
      "id": "39eb2666",
      "metadata": {
        "id": "39eb2666",
        "outputId": "2df9e98d-1e0d-4895-ce7c-8c19503497c5",
        "colab": {
          "base_uri": "https://localhost:8080/"
        }
      },
      "outputs": [
        {
          "output_type": "stream",
          "name": "stdout",
          "text": [
            "python3: can't open file '/content/ai_matching/supervision_tool.py': [Errno 2] No such file or directory\n"
          ]
        }
      ],
      "source": [
        "!python ai_matching/supervision_tool.py generate build train score\n"
      ]
    },
    {
      "cell_type": "markdown",
      "id": "38c8f294",
      "metadata": {
        "id": "38c8f294"
      },
      "source": [
        "## 2) Install dependencies"
      ]
    },
    {
      "cell_type": "code",
      "execution_count": 2,
      "id": "809406e4",
      "metadata": {
        "id": "809406e4",
        "outputId": "2d36bcb2-7a17-4ec6-8b94-6f3e88e3c4ee",
        "colab": {
          "base_uri": "https://localhost:8080/"
        }
      },
      "outputs": [
        {
          "output_type": "stream",
          "name": "stdout",
          "text": [
            "No requirements.txt found — installing a minimal set\n"
          ]
        }
      ],
      "source": [
        "\n",
        "import os\n",
        "if os.path.exists(\"requirements.txt\"):\n",
        "    req_path = \"requirements.txt\"\n",
        "elif os.path.exists(\"../requirements.txt\"):\n",
        "    req_path = \"../requirements.txt\"\n",
        "else:\n",
        "    req_path = None\n",
        "\n",
        "if req_path:\n",
        "    print(\"Installing from\", req_path)\n",
        "    %pip install -q -r {req_path}\n",
        "else:\n",
        "    print(\"No requirements.txt found — installing a minimal set\")\n",
        "    %pip install -q pandas numpy scikit-learn joblib matplotlib\n"
      ]
    },
    {
      "cell_type": "markdown",
      "id": "afaf00ba",
      "metadata": {
        "id": "afaf00ba"
      },
      "source": [
        "## 3) Make the repo importable"
      ]
    },
    {
      "cell_type": "code",
      "execution_count": 3,
      "id": "f9d02fe9",
      "metadata": {
        "id": "f9d02fe9",
        "outputId": "2ab1093f-704c-4ee1-c202-d77eb90e5cf0",
        "colab": {
          "base_uri": "https://localhost:8080/"
        }
      },
      "outputs": [
        {
          "output_type": "stream",
          "name": "stdout",
          "text": [
            "CWD: /content\n",
            "sys.path[0]: /content\n"
          ]
        }
      ],
      "source": [
        "\n",
        "import sys, os\n",
        "cwd = os.getcwd()\n",
        "if cwd not in sys.path:\n",
        "    sys.path.insert(0, cwd)\n",
        "print(\"CWD:\", cwd)\n",
        "print(\"sys.path[0]:\", sys.path[0])\n"
      ]
    },
    {
      "cell_type": "markdown",
      "id": "4133047a",
      "metadata": {
        "id": "4133047a"
      },
      "source": [
        "## 4) Run the full pipeline"
      ]
    },
    {
      "cell_type": "code",
      "execution_count": 4,
      "id": "65cff495",
      "metadata": {
        "id": "65cff495",
        "outputId": "2673b825-8019-49f3-d3e5-1f39fb319228",
        "colab": {
          "base_uri": "https://localhost:8080/"
        }
      },
      "outputs": [
        {
          "output_type": "stream",
          "name": "stdout",
          "text": [
            "python3: can't open file '/content/supervision_tool.py': [Errno 2] No such file or directory\n"
          ]
        }
      ],
      "source": [
        "\n",
        "!python supervision_tool.py generate build train score\n"
      ]
    },
    {
      "cell_type": "markdown",
      "id": "2fb77ed9",
      "metadata": {
        "id": "2fb77ed9"
      },
      "source": [
        "## 5) See outputs (CSV previews and listing)"
      ]
    },
    {
      "cell_type": "code",
      "execution_count": 5,
      "id": "36f00638",
      "metadata": {
        "id": "36f00638",
        "outputId": "02114d54-1b84-43ec-dd81-ee7e715ee2eb",
        "colab": {
          "base_uri": "https://localhost:8080/"
        }
      },
      "outputs": [
        {
          "output_type": "stream",
          "name": "stdout",
          "text": [
            "Working dir: /content\n",
            "\n",
            "Generated artifacts:\n"
          ]
        }
      ],
      "source": [
        "\n",
        "import os, glob, pandas as pd\n",
        "print(\"Working dir:\", os.getcwd())\n",
        "print(\"\\nGenerated artifacts:\")\n",
        "for f in sorted(glob.glob(\"*.csv\") + glob.glob(\"*.joblib\") + glob.glob(\"*.png\")):\n",
        "    print(\" -\", f)\n",
        "\n",
        "for f in [\"Supervision_HistoricalPairs_SYNTH.csv\",\n",
        "          \"supervision_matches.csv\",\n",
        "          \"associates_unassigned.csv\"]:\n",
        "    if os.path.exists(f):\n",
        "        print(f\"\\n=== {f} (head) ===\")\n",
        "        display(pd.read_csv(f).head())\n"
      ]
    },
    {
      "cell_type": "markdown",
      "id": "118cb682",
      "metadata": {
        "id": "118cb682"
      },
      "source": [
        "## 6) Execute `learn_from_outputs.ipynb` and render report"
      ]
    },
    {
      "cell_type": "code",
      "execution_count": 6,
      "id": "7f30d53d",
      "metadata": {
        "id": "7f30d53d",
        "outputId": "dbd174c3-e386-4d9f-c37f-18ee63449533",
        "colab": {
          "base_uri": "https://localhost:8080/"
        }
      },
      "outputs": [
        {
          "output_type": "stream",
          "name": "stdout",
          "text": [
            "learn_from_outputs.ipynb not found in this directory.\n"
          ]
        }
      ],
      "source": [
        "\n",
        "import os\n",
        "if not os.path.exists(\"learn_from_outputs.ipynb\"):\n",
        "    print(\"learn_from_outputs.ipynb not found in this directory.\")\n",
        "else:\n",
        "    !jupyter nbconvert --to notebook --execute learn_from_outputs.ipynb --output learn_from_outputs_EXECUTED.ipynb\n",
        "    !jupyter nbconvert --to html learn_from_outputs_EXECUTED.ipynb --output learn_from_outputs_report.html\n",
        "\n",
        "    from IPython.display import IFrame, display, HTML\n",
        "    display(HTML(\"<h4>Rendered learn_from_outputs report</h4>\"))\n",
        "    display(IFrame('learn_from_outputs_report.html', width='100%', height=800))\n"
      ]
    }
  ],
  "metadata": {
    "colab": {
      "provenance": [],
      "include_colab_link": true
    },
    "language_info": {
      "name": "python"
    },
    "kernelspec": {
      "name": "python3",
      "display_name": "Python 3"
    }
  },
  "nbformat": 4,
  "nbformat_minor": 5
}