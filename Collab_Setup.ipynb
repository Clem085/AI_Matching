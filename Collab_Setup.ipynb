{
  "cells": [
    {
      "cell_type": "markdown",
      "metadata": {},
      "source": [
        "# AI Matching \u2013 Colab Setup\n",
        "\n",
        "This notebook bootstraps the repo inside a Google Colab runtime, installs dependencies, and runs the end-to-end pipeline.\n"
      ]
    },
    {
      "cell_type": "code",
      "execution_count": null,
      "metadata": {
        "id": "clone"
      },
      "outputs": [],
      "source": [
        "# Clone the repository\n",
        "REPO_URL = 'https://github.com/Clem085/AI_Matching.git'\n",
        "WORKDIR = '/content/AI_Matching'\n",
        "!rm -rf {WORKDIR}\n",
        "!git clone {REPO_URL} {WORKDIR}\n",
        "%cd {WORKDIR}\n",
        "!ls\n"
      ]
    },
    {
      "cell_type": "code",
      "execution_count": null,
      "metadata": {
        "id": "install"
      },
      "outputs": [],
      "source": [
        "# Install minimal dependencies\n",
        "!pip install -q -r requirements.txt\n"
      ]
    },
    {
      "cell_type": "code",
      "execution_count": null,
      "metadata": {
        "id": "run_pipeline"
      },
      "outputs": [],
      "source": [
        "# Run the full pipeline (generate -> build -> train -> score)\n",
        "!python ai_matching/supervision_tool.py generate build train score\n"
      ]
    },
    {
      "cell_type": "markdown",
      "metadata": {},
      "source": [
        "## Next steps\n",
        "- Open `ai_matching/learn_from_outputs.ipynb` in Colab for exploratory analysis.\n",
        "- Inspect generated CSVs and `supervision_pair_model.joblib` in the `ai_matching/` folder.\n"
      ]
    }
  ],
  "metadata": {
    "kernelspec": {
      "display_name": "Python 3",
      "language": "python",
      "name": "python3"
    },
    "language_info": {
      "name": "python",
      "version": "3.x"
    }
  },
  "nbformat": 4,
  "nbformat_minor": 5
}