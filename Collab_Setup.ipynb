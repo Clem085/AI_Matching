{
  "cells": [
    {
      "cell_type": "markdown",
      "id": "bca045d9",
      "metadata": {},
      "source": [
        "# \ud83d\ude80 Colab Setup \u2014 AI_Matching"
      ]
    },
    {
      "cell_type": "markdown",
      "id": "7b28e33e",
      "metadata": {},
      "source": [
        "import os, sys\n",
        "from pathlib import Path\n",
        "\n",
        "REPO_URL = 'https://github.com/Clem085/AI_Matching.git'\n",
        "WORKDIR = Path('/content/AI_Matching')\n",
        "\n",
        "if WORKDIR.exists():\n",
        "    print('Removing existing checkout at', WORKDIR)\n",
        "    !rm -rf {WORKDIR}\n",
        "\n",
        "!git clone {REPO_URL} {WORKDIR}\n",
        "os.chdir(WORKDIR)\n",
        "print('Working directory:', Path.cwd())\n",
        "if str((Path('ai_matching')).resolve()) not in sys.path:\n",
        "    sys.path.insert(0, str((Path('ai_matching')).resolve()))\n",
        "!ls\n"
      ]
    },
    {
      "cell_type": "markdown",
      "id": "c04a1bd3",
      "metadata": {},
      "source": [
        "!pip install -q -r requirements.txt\n"
      ]
    },
    {
      "cell_type": "code",
      "execution_count": null,
      "id": "39eb2666",
      "metadata": {},
      "outputs": [],
      "source": [
        "!python ai_matching/supervision_tool.py generate build train score\n"
      ]
    },
    {
      "cell_type": "markdown",
      "id": "38c8f294",
      "metadata": {},
      "source": [
        "## 2) Install dependencies"
      ]
    },
    {
      "cell_type": "code",
      "execution_count": null,
      "id": "809406e4",
      "metadata": {},
      "outputs": [],
      "source": [
        "\n",
        "import os\n",
        "if os.path.exists(\"requirements.txt\"):\n",
        "    req_path = \"requirements.txt\"\n",
        "elif os.path.exists(\"../requirements.txt\"):\n",
        "    req_path = \"../requirements.txt\"\n",
        "else:\n",
        "    req_path = None\n",
        "\n",
        "if req_path:\n",
        "    print(\"Installing from\", req_path)\n",
        "    %pip install -q -r {req_path}\n",
        "else:\n",
        "    print(\"No requirements.txt found \u2014 installing a minimal set\")\n",
        "    %pip install -q pandas numpy scikit-learn joblib matplotlib\n"
      ]
    },
    {
      "cell_type": "markdown",
      "id": "afaf00ba",
      "metadata": {},
      "source": [
        "## 3) Make the repo importable"
      ]
    },
    {
      "cell_type": "code",
      "execution_count": null,
      "id": "f9d02fe9",
      "metadata": {},
      "outputs": [],
      "source": [
        "\n",
        "import sys, os\n",
        "cwd = os.getcwd()\n",
        "if cwd not in sys.path:\n",
        "    sys.path.insert(0, cwd)\n",
        "print(\"CWD:\", cwd)\n",
        "print(\"sys.path[0]:\", sys.path[0])\n"
      ]
    },
    {
      "cell_type": "markdown",
      "id": "4133047a",
      "metadata": {},
      "source": [
        "## 4) Run the full pipeline"
      ]
    },
    {
      "cell_type": "code",
      "execution_count": null,
      "id": "65cff495",
      "metadata": {},
      "outputs": [],
      "source": [
        "\n",
        "!python supervision_tool.py generate build train score\n"
      ]
    },
    {
      "cell_type": "markdown",
      "id": "2fb77ed9",
      "metadata": {},
      "source": [
        "## 5) See outputs (CSV previews and listing)"
      ]
    },
    {
      "cell_type": "code",
      "execution_count": null,
      "id": "36f00638",
      "metadata": {},
      "outputs": [],
      "source": [
        "\n",
        "import os, glob, pandas as pd\n",
        "print(\"Working dir:\", os.getcwd())\n",
        "print(\"\\nGenerated artifacts:\")\n",
        "for f in sorted(glob.glob(\"*.csv\") + glob.glob(\"*.joblib\") + glob.glob(\"*.png\")):\n",
        "    print(\" -\", f)\n",
        "\n",
        "for f in [\"Supervision_HistoricalPairs_SYNTH.csv\",\n",
        "          \"supervision_matches.csv\",\n",
        "          \"associates_unassigned.csv\"]:\n",
        "    if os.path.exists(f):\n",
        "        print(f\"\\n=== {f} (head) ===\")\n",
        "        display(pd.read_csv(f).head())\n"
      ]
    },
    {
      "cell_type": "markdown",
      "id": "118cb682",
      "metadata": {},
      "source": [
        "## 6) Execute `learn_from_outputs.ipynb` and render report"
      ]
    },
    {
      "cell_type": "code",
      "execution_count": null,
      "id": "7f30d53d",
      "metadata": {},
      "outputs": [],
      "source": [
        "\n",
        "import os\n",
        "if not os.path.exists(\"learn_from_outputs.ipynb\"):\n",
        "    print(\"learn_from_outputs.ipynb not found in this directory.\")\n",
        "else:\n",
        "    !jupyter nbconvert --to notebook --execute learn_from_outputs.ipynb --output learn_from_outputs_EXECUTED.ipynb\n",
        "    !jupyter nbconvert --to html learn_from_outputs_EXECUTED.ipynb --output learn_from_outputs_report.html\n",
        "\n",
        "    from IPython.display import IFrame, display, HTML\n",
        "    display(HTML(\"<h4>Rendered learn_from_outputs report</h4>\"))\n",
        "    display(IFrame('learn_from_outputs_report.html', width='100%', height=800))\n"
      ]
    }
  ],
  "metadata": {},
  "nbformat": 4,
  "nbformat_minor": 5
}